{
 "cells": [
  {
   "cell_type": "markdown",
   "metadata": {},
   "source": [
    "# Medical Marijuana Strain Recommendation"
   ]
  },
  {
   "cell_type": "markdown",
   "metadata": {},
   "source": [
    "**Importing needed libraries**"
   ]
  },
  {
   "cell_type": "code",
   "execution_count": 52,
   "metadata": {},
   "outputs": [],
   "source": [
    "import pandas as pd\n",
    "import pickle\n",
    "from sklearn.neighbors import NearestNeighbors"
   ]
  },
  {
   "cell_type": "markdown",
   "metadata": {},
   "source": [
    "**Loading in csv files**"
   ]
  },
  {
   "cell_type": "code",
   "execution_count": 53,
   "metadata": {},
   "outputs": [],
   "source": [
    "df = pd.read_csv('../assets/data/strain_data.csv')\n",
    "df2 = pd.read_csv('../assets/data/strain_data.csv')"
   ]
  },
  {
   "cell_type": "markdown",
   "metadata": {},
   "source": [
    "**Manual One Hot Encoding of all values in dataframe**\n",
    "\n",
    "- This includes race types, positive effect types, medical effect types, and flavor types"
   ]
  },
  {
   "cell_type": "code",
   "execution_count": 54,
   "metadata": {},
   "outputs": [],
   "source": [
    "flavor_list = ['lavender', 'pine', 'sweet', 'cheese', 'vanilla', 'lemon', 'orange', \n",
    "               'pineapple', 'tree fruit', 'sage', 'pepper', 'pungent', 'tea',\n",
    "               'nutty', 'blueberry', 'flowery', 'violet', 'rose', 'ammonia', 'honey',\n",
    "               'diesel', 'chestnut', 'minty', 'plum', 'tar', 'tropical', 'earthy',\n",
    "               'pear', 'coffee', 'woody', 'peach', 'skunk', 'chemical', 'strawberry',\n",
    "               'apricot', 'menthol', 'tobacco', 'mint', 'citrus', 'grapefruit', 'mango',\n",
    "               'grape', 'berry', 'apple', 'spicy/herbal', 'butter', 'lime', 'blue cheese']\n",
    "               \n",
    "positive_list = ['tingly', 'euphoric', 'relaxed', 'focused', 'talkative',\n",
    "                 'uplifted', 'aroused', 'hungry', 'energetic', 'giggly',\n",
    "                 'sleepy', 'happy', 'creative']\n",
    "\n",
    "medical_list = ['inflammation', 'seizures', 'nausea', 'depression',\n",
    "                'cramps', 'pain', 'spasticity', 'eye pressure', \n",
    "                'insomnia', 'headache', 'fatigue', 'muscle spasms',\n",
    "                'lack of appetite', 'stress', 'headaches']"
   ]
  },
  {
   "cell_type": "markdown",
   "metadata": {},
   "source": [
    "**Race types**"
   ]
  },
  {
   "cell_type": "code",
   "execution_count": 55,
   "metadata": {},
   "outputs": [],
   "source": [
    "def gen_hybrid(race):\n",
    "    if race == 'hybrid': return 1\n",
    "    else: return 0\n",
    "def gen_sativa(race):\n",
    "    if race == 'sativa': return 1\n",
    "    else: return 0\n",
    "def gen_indica(race):\n",
    "    if race == 'indica': return 1\n",
    "    else: return 0\n",
    "    \n",
    "\n",
    "df['hybrid'] = df['race'].apply(gen_hybrid)\n",
    "df['sativa'] = df['race'].apply(gen_sativa)\n",
    "df['indica'] = df['race'].apply(gen_indica)"
   ]
  },
  {
   "cell_type": "markdown",
   "metadata": {},
   "source": [
    "**Flavor types**"
   ]
  },
  {
   "cell_type": "code",
   "execution_count": 56,
   "metadata": {},
   "outputs": [],
   "source": [
    "def lavender(flavors):\n",
    "    if 'lavender' in flavors: return 1\n",
    "    else: return 0\n",
    "def pine(flavors): \n",
    "    if 'pine' in flavors: return 1 \n",
    "    else: return 0\n",
    "def sweet(flavors): \n",
    "    if 'sweet' in flavors: return 1 \n",
    "    else: return 0\n",
    "def cheese(flavors): \n",
    "    if 'cheese' in flavors: return 1 \n",
    "    else: return 0\n",
    "def vanilla(flavors): \n",
    "    if 'vanilla' in flavors: return 1 \n",
    "    else: return 0\n",
    "def lemon(flavors): \n",
    "    if 'lemon' in flavors: return 1 \n",
    "    else: return 0\n",
    "def orange(flavors): \n",
    "    if 'orange' in flavors: return 1 \n",
    "    else: return 0\n",
    "def pineapple(flavors): \n",
    "    if 'pineapple' in flavors: return 1 \n",
    "    else: return 0\n",
    "def treefruit(flavors): \n",
    "    if 'tree fruit' in flavors: return 1 \n",
    "    else: return 0\n",
    "def sage(flavors): \n",
    "    if 'sage' in flavors: return 1 \n",
    "    else: return 0\n",
    "def pepper(flavors): \n",
    "    if 'pepper' in flavors: return 1 \n",
    "    else: return 0\n",
    "def pungent(flavors): \n",
    "    if 'pungent' in flavors: return 1 \n",
    "    else: return 0\n",
    "def tea(flavors): \n",
    "    if 'tea' in flavors: return 1 \n",
    "    else: return 0\n",
    "def nutty(flavors): \n",
    "    if 'nutty' in flavors: return 1 \n",
    "    else: return 0\n",
    "def blueberry(flavors): \n",
    "    if 'blueberry' in flavors: return 1 \n",
    "    else: return 0\n",
    "def flowery(flavors): \n",
    "    if 'flowery' in flavors: return 1 \n",
    "    else: return 0\n",
    "def violet(flavors): \n",
    "    if 'violet' in flavors: return 1 \n",
    "    else: return 0\n",
    "def rose(flavors): \n",
    "    if 'rose' in flavors: return 1 \n",
    "    else: return 0\n",
    "def ammonia(flavors): \n",
    "    if 'ammonia' in flavors: return 1 \n",
    "    else: return 0\n",
    "def honey(flavors): \n",
    "    if 'honey' in flavors: return 1 \n",
    "    else: return 0\n",
    "def diesel(flavors): \n",
    "    if 'diesel' in flavors: return 1 \n",
    "    else: return 0\n",
    "def chestnut(flavors): \n",
    "    if 'chestnut' in flavors: return 1 \n",
    "    else: return 0\n",
    "def minty(flavors): \n",
    "    if 'minty' in flavors: return 1 \n",
    "    else: return 0\n",
    "def plum(flavors): \n",
    "    if 'plum' in flavors: return 1 \n",
    "    else: return 0\n",
    "def tar(flavors): \n",
    "    if 'tar' in flavors: return 1 \n",
    "    else: return 0\n",
    "def tropical(flavors): \n",
    "    if 'tropical' in flavors: return 1 \n",
    "    else: return 0\n",
    "def earthy(flavors): \n",
    "    if 'earthy' in flavors: return 1 \n",
    "    else: return 0\n",
    "def pear(flavors): \n",
    "    if 'pear' in flavors: return 1 \n",
    "    else: return 0\n",
    "def coffee(flavors): \n",
    "    if 'coffee' in flavors: return 1 \n",
    "    else: return 0\n",
    "def woody(flavors): \n",
    "    if 'woody' in flavors: return 1 \n",
    "    else: return 0\n",
    "def peach(flavors): \n",
    "    if 'peach' in flavors: return 1 \n",
    "    else: return 0\n",
    "def skunk(flavors): \n",
    "    if 'skunk' in flavors: return 1 \n",
    "    else: return 0\n",
    "def chemical(flavors): \n",
    "    if 'chemical' in flavors: return 1 \n",
    "    else: return 0\n",
    "def strawberry(flavors): \n",
    "    if 'strawberry' in flavors: return 1 \n",
    "    else: return 0\n",
    "def apricot(flavors): \n",
    "    if 'apricot' in flavors: return 1 \n",
    "    else: return 0\n",
    "def menthol(flavors): \n",
    "    if 'menthol' in flavors: return 1 \n",
    "    else: return 0\n",
    "def tobacco(flavors): \n",
    "    if 'tobacco' in flavors: return 1 \n",
    "    else: return 0\n",
    "def mint(flavors): \n",
    "    if 'mint' in flavors: return 1 \n",
    "    else: return 0\n",
    "def citrus(flavors): \n",
    "    if 'citrus' in flavors: return 1 \n",
    "    else: return 0\n",
    "def grapefruit(flavors): \n",
    "    if 'grapefruit' in flavors: return 1 \n",
    "    else: return 0\n",
    "def mango(flavors): \n",
    "    if 'mango' in flavors: return 1 \n",
    "    else: return 0\n",
    "def grape(flavors): \n",
    "    if 'grape' in flavors: return 1 \n",
    "    else: return 0\n",
    "def berry(flavors): \n",
    "    if 'berry' in flavors: return 1 \n",
    "    else: return 0\n",
    "def apple(flavors): \n",
    "    if 'apple' in flavors: return 1 \n",
    "    else: return 0\n",
    "def spicyherbal(flavors): \n",
    "    if 'spicy/herbal' in flavors: return 1 \n",
    "    else: return 0\n",
    "def butter(flavors): \n",
    "    if 'butter' in flavors: return 1 \n",
    "    else: return 0\n",
    "def lime(flavors): \n",
    "    if 'lime' in flavors: return 1 \n",
    "    else: return 0\n",
    "def bluecheese(flavors): \n",
    "    if 'blue cheese' in flavors: return 1 \n",
    "    else: return 0\n",
    "\n",
    "\n",
    "for flavor in flavor_list:\n",
    "    if flavor == 'spicy/herbal':\n",
    "        df[flavor] = df['flavors'].apply(spicyherbal)\n",
    "    elif flavor == 'blue cheese':\n",
    "        df[flavor] = df['flavors'].apply(bluecheese)\n",
    "    elif flavor == 'tree fruit':\n",
    "        df[flavor] = df['flavors'].apply(treefruit)\n",
    "    else:\n",
    "        df[flavor] = df['flavors'].apply(eval(flavor))"
   ]
  },
  {
   "cell_type": "markdown",
   "metadata": {},
   "source": [
    "**Positive types**"
   ]
  },
  {
   "cell_type": "code",
   "execution_count": 57,
   "metadata": {},
   "outputs": [],
   "source": [
    "def tingly(positives): \n",
    "    if 'tingly' in positives: return 1 \n",
    "    else: return 0\n",
    "def euphoric(positives): \n",
    "    if 'euphoric' in positives: return 1 \n",
    "    else: return 0\n",
    "def relaxed(positives): \n",
    "    if 'relaxed' in positives: return 1 \n",
    "    else: return 0\n",
    "def focused(positives): \n",
    "    if 'focused' in positives: return 1 \n",
    "    else: return 0\n",
    "def talkative(positives): \n",
    "    if 'talkative' in positives: return 1 \n",
    "    else: return 0\n",
    "def uplifted(positives): \n",
    "    if 'uplifted' in positives: return 1 \n",
    "    else: return 0\n",
    "def aroused(positives): \n",
    "    if 'aroused' in positives: return 1 \n",
    "    else: return 0\n",
    "def hungry(positives): \n",
    "    if 'hungry' in positives: return 1 \n",
    "    else: return 0\n",
    "def energetic(positives): \n",
    "    if 'energetic' in positives: return 1 \n",
    "    else: return 0\n",
    "def giggly(positives): \n",
    "    if 'giggly' in positives: return 1 \n",
    "    else: return 0\n",
    "def sleepy(positives): \n",
    "    if 'sleepy' in positives: return 1 \n",
    "    else: return 0\n",
    "def happy(positives): \n",
    "    if 'happy' in positives: return 1 \n",
    "    else: return 0\n",
    "def creative(positives): \n",
    "    if 'creative' in positives: return 1 \n",
    "    else: return 0\n",
    "\n",
    "for positive in positive_list:\n",
    "    df[positive] = df['positive'].apply(eval(positive))"
   ]
  },
  {
   "cell_type": "markdown",
   "metadata": {},
   "source": [
    "**Medical types**"
   ]
  },
  {
   "cell_type": "code",
   "execution_count": 58,
   "metadata": {},
   "outputs": [],
   "source": [
    "def inflammation(positives): \n",
    "    if 'inflammation' in positives: return 1 \n",
    "    else: return 0\n",
    "def seizures(positives): \n",
    "    if 'seizures' in positives: return 1 \n",
    "    else: return 0\n",
    "def nausea(positives): \n",
    "    if 'nausea' in positives: return 1 \n",
    "    else: return 0\n",
    "def depression(positives): \n",
    "    if 'depression' in positives: return 1 \n",
    "    else: return 0\n",
    "def cramps(positives): \n",
    "    if 'cramps' in positives: return 1 \n",
    "    else: return 0\n",
    "def pain(positives): \n",
    "    if 'pain' in positives: return 1 \n",
    "    else: return 0\n",
    "def spasticity(positives): \n",
    "    if 'spasticity' in positives: return 1 \n",
    "    else: return 0\n",
    "def eyepressure(positives): \n",
    "    if 'eye pressure' in positives: return 1 \n",
    "    else: return 0\n",
    "def insomnia(positives): \n",
    "    if 'insomnia' in positives: return 1 \n",
    "    else: return 0\n",
    "def headache(positives): \n",
    "    if 'headache' in positives: return 1 \n",
    "    else: return 0\n",
    "def fatigue(positives): \n",
    "    if 'fatigue' in positives: return 1 \n",
    "    else: return 0\n",
    "def musclespasms(positives): \n",
    "    if 'muscle spasms' in positives: return 1 \n",
    "    else: return 0\n",
    "def lackofappetite(positives): \n",
    "    if 'lack of appetite' in positives: return 1 \n",
    "    else: return 0\n",
    "def stress(positives): \n",
    "    if 'stress' in positives: return 1 \n",
    "    else: return 0\n",
    "def headaches(positives): \n",
    "    if 'headaches' in positives: return 1 \n",
    "    else: return 0\n",
    "\n",
    "for medical in medical_list:\n",
    "    if medical == 'muscle spasms':\n",
    "        df[medical] = df['medical'].apply(musclespasms)\n",
    "    elif medical == 'lack of appetite':\n",
    "        df[medical] = df['medical'].apply(lackofappetite)\n",
    "    elif medical == 'eye pressure':\n",
    "        df[medical] = df['medical'].apply(eyepressure)\n",
    "    else:    \n",
    "        df[medical] = df['medical'].apply(eval(medical))"
   ]
  },
  {
   "cell_type": "markdown",
   "metadata": {},
   "source": [
    "**Dropping uneeded features for modeling**"
   ]
  },
  {
   "cell_type": "code",
   "execution_count": 59,
   "metadata": {},
   "outputs": [],
   "source": [
    "df.drop(['negative', 'rating', 'description', 'flavors', 'positive', 'medical', 'race', 'name'], axis=1, inplace=True)"
   ]
  },
  {
   "cell_type": "markdown",
   "metadata": {},
   "source": [
    "**Initializing Nearest Neighbors Recommendation model**"
   ]
  },
  {
   "cell_type": "code",
   "execution_count": 60,
   "metadata": {},
   "outputs": [],
   "source": [
    "nbrs = NearestNeighbors(n_neighbors=5).fit(df.values)"
   ]
  },
  {
   "cell_type": "markdown",
   "metadata": {},
   "source": [
    "**Creating sample user input**"
   ]
  },
  {
   "cell_type": "code",
   "execution_count": 61,
   "metadata": {},
   "outputs": [],
   "source": [
    "feature_list = list(df.columns)\n",
    "feature_dict = {}\n",
    "for feature in feature_list:\n",
    "    feature_dict[feature] = 0\n",
    "\n",
    "test_user = 'indica, pine, berry, chemical, minty, relaxed, tingly, happy, creative, aroused, depression, cramps, pain, stress, muscle spasms'\n",
    "\n",
    "test_user = test_user.split(', ')\n",
    "for feature in test_user:\n",
    "    feature_dict[feature] = 1\n",
    "\n",
    "input = list(feature_dict.values())"
   ]
  },
  {
   "cell_type": "markdown",
   "metadata": {},
   "source": [
    "**Sending created user input into recommendation model**"
   ]
  },
  {
   "cell_type": "code",
   "execution_count": 62,
   "metadata": {},
   "outputs": [
    {
     "name": "stdout",
     "output_type": "stream",
     "text": [
      "[[3.         3.         3.16227766 3.16227766 3.16227766]]\n",
      "[[1530  838  857  221  230]]\n",
      "['Rare Dankness #1' 'indica' \"['earthy', 'berry', 'pine']\"\n",
      " \"['relaxed', 'euphoric', 'happy', 'creative', 'giggly']\" \"['dry mouth']\"\n",
      " \"['depression', 'pain', 'stress', 'fatigue', 'muscle spasms']\" nan nan]\n",
      "['Green Love Potion' 'indica' \"['earthy', 'pine', 'woody']\"\n",
      " \"['relaxed', 'happy', 'energetic', 'uplifted', 'aroused']\" \"['']\"\n",
      " \"['depression', 'pain', 'stress', 'cramps', 'muscle spasms']\" 4.1\n",
      " 'Green Love Potion is an 80/20 indica-dominant strain that is surprisingly functional. This particular cut grows into a bouquet of green and purple leaves that emits an odor denoting its Lavender parentage. With a relatively clear-headed buzz, this strain works well for indica lovers seeking euphoria and a comforting relaxation in the body without being sedative. Patients prefer Green Love Potion for enhancing the mood and remedying mild physical pain.\\xa0']\n",
      "['Gutbuster' 'indica' \"['berry']\" \"['relaxed', 'creative', 'giggly']\"\n",
      " \"['paranoid', 'anxious']\"\n",
      " \"['insomnia', 'pain', 'stress', 'muscle spasms']\" 4.5\n",
      " 'Washington State breeders Exotic Genetix crossed two of their own strains to create Gutbuster, a 70% indica-dominant hybrid that offers the mellowing effects that indica fans love. Combining the blackberry flavors of Kimbo Kush with the vanilla ice cream and chocolate chip cookie flavors of Cookies and Cream makes Gutbuster a truly memorable strain. THC levels have been recorded as high as 25%.\\xa0']\n",
      "['Blackberry Chem OG' 'hybrid' \"['berry', 'chemical']\"\n",
      " \"['relaxed', 'euphoric', 'happy', 'uplifted', 'tingly']\"\n",
      " \"['paranoid', 'anxious']\" \"['depression', 'pain', 'stress']\" nan nan]\n",
      "['Blackberry Rhino' 'indica' \"['berry', 'sweet', 'spicy/herbal']\"\n",
      " \"['relaxed', 'hungry', 'happy', 'creative']\" \"['dry mouth', 'dry eyes']\"\n",
      " \"['depression', 'insomnia', 'pain', 'stress', 'muscle spasms']\" 4.3\n",
      " 'Blackberry Rhino, also called Blackberry White, is a berry-flavored indica strain that combines Blackberry and White Rhino. Sometimes our indicas surprise us with uplifting, clear-headed effects, and you can count Blackberry Rhino among those subtly invigorating strains. Head-to-toe relaxation pours in over time, bringing relief to patients with pain, insomnia, appetite loss, and nausea.']\n"
     ]
    }
   ],
   "source": [
    "dist, recommends = nbrs.kneighbors([input])\n",
    "\n",
    "# Will print the distances of test item and recommended item.\n",
    "print(dist)\n",
    "\n",
    "#Will print the index value of recommendations.\n",
    "print(recommends)\n",
    "\n",
    "for index in recommends[0]:\n",
    "    print(df2.values[index])"
   ]
  },
  {
   "cell_type": "markdown",
   "metadata": {},
   "source": [
    "**Pickeling model for use in web application**"
   ]
  },
  {
   "cell_type": "code",
   "execution_count": 63,
   "metadata": {},
   "outputs": [],
   "source": [
    "pickle.dump(nbrs, open('../assets/models/nn_model.pkl', 'wb'))"
   ]
  }
 ],
 "metadata": {
  "interpreter": {
   "hash": "878edaf2201edce6d4a06617dff3a215352c100cdc5bbd9fa7f83fa60e0da4ea"
  },
  "kernelspec": {
   "display_name": "Python 3.7.9 64-bit",
   "language": "python",
   "name": "python3"
  },
  "language_info": {
   "codemirror_mode": {
    "name": "ipython",
    "version": 3
   },
   "file_extension": ".py",
   "mimetype": "text/x-python",
   "name": "python",
   "nbconvert_exporter": "python",
   "pygments_lexer": "ipython3",
   "version": "3.7.9"
  },
  "orig_nbformat": 4
 },
 "nbformat": 4,
 "nbformat_minor": 2
}
