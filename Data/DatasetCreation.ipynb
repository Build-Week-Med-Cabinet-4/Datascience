{
 "cells": [
  {
   "cell_type": "code",
   "execution_count": 1,
   "metadata": {},
   "outputs": [],
   "source": [
    "import requests\n",
    "import numpy as np"
   ]
  },
  {
   "cell_type": "code",
   "execution_count": 2,
   "metadata": {},
   "outputs": [],
   "source": [
    "import pandas as pd"
   ]
  },
  {
   "cell_type": "code",
   "execution_count": 3,
   "metadata": {},
   "outputs": [],
   "source": [
    "key = 'QsLigX4'\n",
    "\n",
    "url = 'https://strainapi.evanbusse.com/{}/strains/search/all'.format(key)\n",
    "\n",
    "r = requests.request('GET', url=url)"
   ]
  },
  {
   "cell_type": "code",
   "execution_count": 4,
   "metadata": {},
   "outputs": [
    {
     "data": {
      "text/plain": [
       "<Response [200]>"
      ]
     },
     "execution_count": 4,
     "metadata": {},
     "output_type": "execute_result"
    }
   ],
   "source": [
    "r"
   ]
  },
  {
   "cell_type": "markdown",
   "metadata": {},
   "source": [
    "## Get the Strain API data and clean it"
   ]
  },
  {
   "cell_type": "code",
   "execution_count": 5,
   "metadata": {},
   "outputs": [
    {
     "name": "stdout",
     "output_type": "stream",
     "text": [
      "Creating pandas dataframe from API response json...\n",
      "Dataframe Created, shape: (1970, 5)\n"
     ]
    },
    {
     "data": {
      "text/html": [
       "<div>\n",
       "<style scoped>\n",
       "    .dataframe tbody tr th:only-of-type {\n",
       "        vertical-align: middle;\n",
       "    }\n",
       "\n",
       "    .dataframe tbody tr th {\n",
       "        vertical-align: top;\n",
       "    }\n",
       "\n",
       "    .dataframe thead th {\n",
       "        text-align: right;\n",
       "    }\n",
       "</style>\n",
       "<table border=\"1\" class=\"dataframe\">\n",
       "  <thead>\n",
       "    <tr style=\"text-align: right;\">\n",
       "      <th></th>\n",
       "      <th>name</th>\n",
       "      <th>id</th>\n",
       "      <th>race</th>\n",
       "      <th>flavors</th>\n",
       "      <th>effects</th>\n",
       "    </tr>\n",
       "  </thead>\n",
       "  <tbody>\n",
       "    <tr>\n",
       "      <th>0</th>\n",
       "      <td>Afpak</td>\n",
       "      <td>1</td>\n",
       "      <td>hybrid</td>\n",
       "      <td>[Earthy, Chemical, Pine]</td>\n",
       "      <td>{'positive': ['Relaxed', 'Hungry', 'Happy', 'S...</td>\n",
       "    </tr>\n",
       "    <tr>\n",
       "      <th>1</th>\n",
       "      <td>African</td>\n",
       "      <td>2</td>\n",
       "      <td>sativa</td>\n",
       "      <td>[Spicy/Herbal, Pungent, Earthy]</td>\n",
       "      <td>{'positive': ['Euphoric', 'Happy', 'Creative',...</td>\n",
       "    </tr>\n",
       "    <tr>\n",
       "      <th>2</th>\n",
       "      <td>Afternoon Delight</td>\n",
       "      <td>3</td>\n",
       "      <td>hybrid</td>\n",
       "      <td>[Pepper, Flowery, Pine]</td>\n",
       "      <td>{'positive': ['Relaxed', 'Hungry', 'Euphoric',...</td>\n",
       "    </tr>\n",
       "  </tbody>\n",
       "</table>\n",
       "</div>"
      ],
      "text/plain": [
       "                name id    race                          flavors  \\\n",
       "0              Afpak  1  hybrid         [Earthy, Chemical, Pine]   \n",
       "1            African  2  sativa  [Spicy/Herbal, Pungent, Earthy]   \n",
       "2  Afternoon Delight  3  hybrid          [Pepper, Flowery, Pine]   \n",
       "\n",
       "                                             effects  \n",
       "0  {'positive': ['Relaxed', 'Hungry', 'Happy', 'S...  \n",
       "1  {'positive': ['Euphoric', 'Happy', 'Creative',...  \n",
       "2  {'positive': ['Relaxed', 'Hungry', 'Euphoric',...  "
      ]
     },
     "execution_count": 5,
     "metadata": {},
     "output_type": "execute_result"
    }
   ],
   "source": [
    "json = r.json()\n",
    "\n",
    "print('Creating pandas dataframe from API response json...')\n",
    "df = pd.DataFrame.from_dict(json).T.reset_index()\n",
    "df = df.rename(columns={'index':'name'})\n",
    "print('Dataframe Created, shape: {}'.format(df.shape))\n",
    "df.head(3)"
   ]
  },
  {
   "cell_type": "code",
   "execution_count": 6,
   "metadata": {},
   "outputs": [
    {
     "name": "stdout",
     "output_type": "stream",
     "text": [
      "Initializing Effect lists...\n",
      "Lists initialized:\n",
      "Positive shape: 0\tNegative Shape: 0\tMedical Shape: 0\n",
      "Generating individual effect lists...\n",
      "Lists populated:\n",
      "Positive shape: 1970\tNegative Shape: 1970\tMedical Shape: 1970\n",
      "Setting columns in dataframe to effect lists...\n",
      "Columns created:\n"
     ]
    },
    {
     "data": {
      "text/html": [
       "<div>\n",
       "<style scoped>\n",
       "    .dataframe tbody tr th:only-of-type {\n",
       "        vertical-align: middle;\n",
       "    }\n",
       "\n",
       "    .dataframe tbody tr th {\n",
       "        vertical-align: top;\n",
       "    }\n",
       "\n",
       "    .dataframe thead th {\n",
       "        text-align: right;\n",
       "    }\n",
       "</style>\n",
       "<table border=\"1\" class=\"dataframe\">\n",
       "  <thead>\n",
       "    <tr style=\"text-align: right;\">\n",
       "      <th></th>\n",
       "      <th>name</th>\n",
       "      <th>id</th>\n",
       "      <th>race</th>\n",
       "      <th>flavors</th>\n",
       "      <th>effects</th>\n",
       "      <th>positive</th>\n",
       "      <th>negative</th>\n",
       "      <th>medical</th>\n",
       "    </tr>\n",
       "  </thead>\n",
       "  <tbody>\n",
       "    <tr>\n",
       "      <th>0</th>\n",
       "      <td>Afpak</td>\n",
       "      <td>1</td>\n",
       "      <td>hybrid</td>\n",
       "      <td>[Earthy, Chemical, Pine]</td>\n",
       "      <td>{'positive': ['Relaxed', 'Hungry', 'Happy', 'S...</td>\n",
       "      <td>[Relaxed, Hungry, Happy, Sleepy]</td>\n",
       "      <td>[Dizzy]</td>\n",
       "      <td>[Depression, Insomnia, Pain, Stress, Lack of A...</td>\n",
       "    </tr>\n",
       "    <tr>\n",
       "      <th>1</th>\n",
       "      <td>African</td>\n",
       "      <td>2</td>\n",
       "      <td>sativa</td>\n",
       "      <td>[Spicy/Herbal, Pungent, Earthy]</td>\n",
       "      <td>{'positive': ['Euphoric', 'Happy', 'Creative',...</td>\n",
       "      <td>[Euphoric, Happy, Creative, Energetic, Talkative]</td>\n",
       "      <td>[Dry Mouth]</td>\n",
       "      <td>[Depression, Pain, Stress, Lack of Appetite, N...</td>\n",
       "    </tr>\n",
       "    <tr>\n",
       "      <th>2</th>\n",
       "      <td>Afternoon Delight</td>\n",
       "      <td>3</td>\n",
       "      <td>hybrid</td>\n",
       "      <td>[Pepper, Flowery, Pine]</td>\n",
       "      <td>{'positive': ['Relaxed', 'Hungry', 'Euphoric',...</td>\n",
       "      <td>[Relaxed, Hungry, Euphoric, Uplifted, Tingly]</td>\n",
       "      <td>[Dizzy, Dry Mouth, Paranoid]</td>\n",
       "      <td>[Depression, Insomnia, Pain, Stress, Cramps, H...</td>\n",
       "    </tr>\n",
       "  </tbody>\n",
       "</table>\n",
       "</div>"
      ],
      "text/plain": [
       "                name id    race                          flavors  \\\n",
       "0              Afpak  1  hybrid         [Earthy, Chemical, Pine]   \n",
       "1            African  2  sativa  [Spicy/Herbal, Pungent, Earthy]   \n",
       "2  Afternoon Delight  3  hybrid          [Pepper, Flowery, Pine]   \n",
       "\n",
       "                                             effects  \\\n",
       "0  {'positive': ['Relaxed', 'Hungry', 'Happy', 'S...   \n",
       "1  {'positive': ['Euphoric', 'Happy', 'Creative',...   \n",
       "2  {'positive': ['Relaxed', 'Hungry', 'Euphoric',...   \n",
       "\n",
       "                                            positive  \\\n",
       "0                   [Relaxed, Hungry, Happy, Sleepy]   \n",
       "1  [Euphoric, Happy, Creative, Energetic, Talkative]   \n",
       "2      [Relaxed, Hungry, Euphoric, Uplifted, Tingly]   \n",
       "\n",
       "                       negative  \\\n",
       "0                       [Dizzy]   \n",
       "1                   [Dry Mouth]   \n",
       "2  [Dizzy, Dry Mouth, Paranoid]   \n",
       "\n",
       "                                             medical  \n",
       "0  [Depression, Insomnia, Pain, Stress, Lack of A...  \n",
       "1  [Depression, Pain, Stress, Lack of Appetite, N...  \n",
       "2  [Depression, Insomnia, Pain, Stress, Cramps, H...  "
      ]
     },
     "execution_count": 6,
     "metadata": {},
     "output_type": "execute_result"
    }
   ],
   "source": [
    "print('Initializing Effect lists...')\n",
    "positive = []\n",
    "negative = []\n",
    "medical = []\n",
    "print('Lists initialized:')\n",
    "s = 'Positive shape: {}\\tNegative Shape: {}\\tMedical Shape: {}'\n",
    "print(s.format(len(positive), len(negative), len(medical)))\n",
    "\n",
    "print('Generating individual effect lists...')\n",
    "for index, row in df.iterrows():\n",
    "    positive.append(row['effects']['positive'])\n",
    "    negative.append(row['effects']['negative'])\n",
    "    medical.append(row['effects']['medical'])\n",
    "\n",
    "print('Lists populated:')\n",
    "print(s.format(len(positive), len(negative), len(medical)))\n",
    "    \n",
    "print('Setting columns in dataframe to effect lists...')\n",
    "df['positive'] = positive\n",
    "df['negative'] = negative\n",
    "df['medical'] = medical\n",
    "\n",
    "print('Columns created:')\n",
    "df.head(3)"
   ]
  },
  {
   "cell_type": "code",
   "execution_count": 7,
   "metadata": {},
   "outputs": [
    {
     "name": "stdout",
     "output_type": "stream",
     "text": [
      "Removing redundant \"effects\" column\n",
      "Column removed:\n"
     ]
    },
    {
     "data": {
      "text/html": [
       "<div>\n",
       "<style scoped>\n",
       "    .dataframe tbody tr th:only-of-type {\n",
       "        vertical-align: middle;\n",
       "    }\n",
       "\n",
       "    .dataframe tbody tr th {\n",
       "        vertical-align: top;\n",
       "    }\n",
       "\n",
       "    .dataframe thead th {\n",
       "        text-align: right;\n",
       "    }\n",
       "</style>\n",
       "<table border=\"1\" class=\"dataframe\">\n",
       "  <thead>\n",
       "    <tr style=\"text-align: right;\">\n",
       "      <th></th>\n",
       "      <th>name</th>\n",
       "      <th>id</th>\n",
       "      <th>race</th>\n",
       "      <th>flavors</th>\n",
       "      <th>positive</th>\n",
       "      <th>negative</th>\n",
       "      <th>medical</th>\n",
       "    </tr>\n",
       "  </thead>\n",
       "  <tbody>\n",
       "    <tr>\n",
       "      <th>0</th>\n",
       "      <td>Afpak</td>\n",
       "      <td>1</td>\n",
       "      <td>hybrid</td>\n",
       "      <td>[Earthy, Chemical, Pine]</td>\n",
       "      <td>[Relaxed, Hungry, Happy, Sleepy]</td>\n",
       "      <td>[Dizzy]</td>\n",
       "      <td>[Depression, Insomnia, Pain, Stress, Lack of A...</td>\n",
       "    </tr>\n",
       "  </tbody>\n",
       "</table>\n",
       "</div>"
      ],
      "text/plain": [
       "    name id    race                   flavors  \\\n",
       "0  Afpak  1  hybrid  [Earthy, Chemical, Pine]   \n",
       "\n",
       "                           positive negative  \\\n",
       "0  [Relaxed, Hungry, Happy, Sleepy]  [Dizzy]   \n",
       "\n",
       "                                             medical  \n",
       "0  [Depression, Insomnia, Pain, Stress, Lack of A...  "
      ]
     },
     "execution_count": 7,
     "metadata": {},
     "output_type": "execute_result"
    }
   ],
   "source": [
    "print('Removing redundant \"effects\" column')\n",
    "df = df.drop('effects', axis=1)\n",
    "print('Column removed:')\n",
    "df.head(1)"
   ]
  },
  {
   "cell_type": "code",
   "execution_count": 8,
   "metadata": {},
   "outputs": [],
   "source": [
    "df_strain = df.copy()"
   ]
  },
  {
   "cell_type": "markdown",
   "metadata": {},
   "source": [
    "## Get Kaggle Dataset\n",
    "#### Was saved locally and put into same folder as this notebook"
   ]
  },
  {
   "cell_type": "code",
   "execution_count": 9,
   "metadata": {},
   "outputs": [],
   "source": [
    "try:\n",
    "    df_kag = pd.read_csv('./cannabis-strains/cannabis.csv')\n",
    "except Exception as e:\n",
    "    print(e)\n",
    "    print('The file was unable to be found, make sure to download it from here:')\n",
    "    print('https://www.kaggle.com/kingburrito666/cannabis-strains/download')\n",
    "    print('Then extract the folder called \"cannabis-strains\" to the folder containing this notebook')"
   ]
  },
  {
   "cell_type": "code",
   "execution_count": 10,
   "metadata": {},
   "outputs": [
    {
     "data": {
      "text/html": [
       "<div>\n",
       "<style scoped>\n",
       "    .dataframe tbody tr th:only-of-type {\n",
       "        vertical-align: middle;\n",
       "    }\n",
       "\n",
       "    .dataframe tbody tr th {\n",
       "        vertical-align: top;\n",
       "    }\n",
       "\n",
       "    .dataframe thead th {\n",
       "        text-align: right;\n",
       "    }\n",
       "</style>\n",
       "<table border=\"1\" class=\"dataframe\">\n",
       "  <thead>\n",
       "    <tr style=\"text-align: right;\">\n",
       "      <th></th>\n",
       "      <th>Strain</th>\n",
       "      <th>Type</th>\n",
       "      <th>Rating</th>\n",
       "      <th>Effects</th>\n",
       "      <th>Flavor</th>\n",
       "      <th>Description</th>\n",
       "    </tr>\n",
       "  </thead>\n",
       "  <tbody>\n",
       "    <tr>\n",
       "      <th>0</th>\n",
       "      <td>100-Og</td>\n",
       "      <td>hybrid</td>\n",
       "      <td>4.0</td>\n",
       "      <td>Creative,Energetic,Tingly,Euphoric,Relaxed</td>\n",
       "      <td>Earthy,Sweet,Citrus</td>\n",
       "      <td>$100 OG is a 50/50 hybrid strain that packs a ...</td>\n",
       "    </tr>\n",
       "    <tr>\n",
       "      <th>1</th>\n",
       "      <td>98-White-Widow</td>\n",
       "      <td>hybrid</td>\n",
       "      <td>4.7</td>\n",
       "      <td>Relaxed,Aroused,Creative,Happy,Energetic</td>\n",
       "      <td>Flowery,Violet,Diesel</td>\n",
       "      <td>The ‘98 Aloha White Widow is an especially pot...</td>\n",
       "    </tr>\n",
       "    <tr>\n",
       "      <th>2</th>\n",
       "      <td>1024</td>\n",
       "      <td>sativa</td>\n",
       "      <td>4.4</td>\n",
       "      <td>Uplifted,Happy,Relaxed,Energetic,Creative</td>\n",
       "      <td>Spicy/Herbal,Sage,Woody</td>\n",
       "      <td>1024 is a sativa-dominant hybrid bred in Spain...</td>\n",
       "    </tr>\n",
       "  </tbody>\n",
       "</table>\n",
       "</div>"
      ],
      "text/plain": [
       "           Strain    Type  Rating                                     Effects  \\\n",
       "0          100-Og  hybrid     4.0  Creative,Energetic,Tingly,Euphoric,Relaxed   \n",
       "1  98-White-Widow  hybrid     4.7    Relaxed,Aroused,Creative,Happy,Energetic   \n",
       "2            1024  sativa     4.4   Uplifted,Happy,Relaxed,Energetic,Creative   \n",
       "\n",
       "                    Flavor                                        Description  \n",
       "0      Earthy,Sweet,Citrus  $100 OG is a 50/50 hybrid strain that packs a ...  \n",
       "1    Flowery,Violet,Diesel  The ‘98 Aloha White Widow is an especially pot...  \n",
       "2  Spicy/Herbal,Sage,Woody  1024 is a sativa-dominant hybrid bred in Spain...  "
      ]
     },
     "execution_count": 10,
     "metadata": {},
     "output_type": "execute_result"
    }
   ],
   "source": [
    "df_kag.head(3)"
   ]
  },
  {
   "cell_type": "code",
   "execution_count": 11,
   "metadata": {},
   "outputs": [],
   "source": [
    "#Rename columns to have the same names as in the Strain API dataframe\n",
    "df_kag = df_kag.rename(columns={'Strain':'name', 'Type':'race'})\n",
    "\n",
    "#Clean the names so they're in the same format as the name in the Strain API so they can be merged on\n",
    "df_kag['name'] = df_kag['name'].apply(lambda x: x.strip().replace('-',' '))"
   ]
  },
  {
   "cell_type": "markdown",
   "metadata": {},
   "source": [
    "### Merge the two datasets based on their name"
   ]
  },
  {
   "cell_type": "code",
   "execution_count": 12,
   "metadata": {},
   "outputs": [
    {
     "name": "stdout",
     "output_type": "stream",
     "text": [
      "(1495, 11)\n"
     ]
    },
    {
     "data": {
      "text/html": [
       "<div>\n",
       "<style scoped>\n",
       "    .dataframe tbody tr th:only-of-type {\n",
       "        vertical-align: middle;\n",
       "    }\n",
       "\n",
       "    .dataframe tbody tr th {\n",
       "        vertical-align: top;\n",
       "    }\n",
       "\n",
       "    .dataframe thead th {\n",
       "        text-align: right;\n",
       "    }\n",
       "</style>\n",
       "<table border=\"1\" class=\"dataframe\">\n",
       "  <thead>\n",
       "    <tr style=\"text-align: right;\">\n",
       "      <th></th>\n",
       "      <th>name</th>\n",
       "      <th>id</th>\n",
       "      <th>race</th>\n",
       "      <th>flavors</th>\n",
       "      <th>positive</th>\n",
       "      <th>negative</th>\n",
       "      <th>medical</th>\n",
       "      <th>Rating</th>\n",
       "      <th>Effects</th>\n",
       "      <th>Flavor</th>\n",
       "      <th>Description</th>\n",
       "    </tr>\n",
       "  </thead>\n",
       "  <tbody>\n",
       "    <tr>\n",
       "      <th>0</th>\n",
       "      <td>Afpak</td>\n",
       "      <td>1</td>\n",
       "      <td>hybrid</td>\n",
       "      <td>[Earthy, Chemical, Pine]</td>\n",
       "      <td>[Relaxed, Hungry, Happy, Sleepy]</td>\n",
       "      <td>[Dizzy]</td>\n",
       "      <td>[Depression, Insomnia, Pain, Stress, Lack of A...</td>\n",
       "      <td>4.2</td>\n",
       "      <td>Relaxed,Creative,Focused,Sleepy,Happy</td>\n",
       "      <td>Pine,Spicy/Herbal,Earthy</td>\n",
       "      <td>Afpak, named for its direct Afghani and Pakist...</td>\n",
       "    </tr>\n",
       "    <tr>\n",
       "      <th>1</th>\n",
       "      <td>African</td>\n",
       "      <td>2</td>\n",
       "      <td>sativa</td>\n",
       "      <td>[Spicy/Herbal, Pungent, Earthy]</td>\n",
       "      <td>[Euphoric, Happy, Creative, Energetic, Talkative]</td>\n",
       "      <td>[Dry Mouth]</td>\n",
       "      <td>[Depression, Pain, Stress, Lack of Appetite, N...</td>\n",
       "      <td>3.9</td>\n",
       "      <td>Euphoric,Energetic,Aroused,Tingly,Creative</td>\n",
       "      <td>Spicy/Herbal,Pungent,Pepper</td>\n",
       "      <td>African refers to the indigenous varieties of ...</td>\n",
       "    </tr>\n",
       "    <tr>\n",
       "      <th>2</th>\n",
       "      <td>Afternoon Delight</td>\n",
       "      <td>3</td>\n",
       "      <td>hybrid</td>\n",
       "      <td>[Pepper, Flowery, Pine]</td>\n",
       "      <td>[Relaxed, Hungry, Euphoric, Uplifted, Tingly]</td>\n",
       "      <td>[Dizzy, Dry Mouth, Paranoid]</td>\n",
       "      <td>[Depression, Insomnia, Pain, Stress, Cramps, H...</td>\n",
       "      <td>4.8</td>\n",
       "      <td>Talkative,Relaxed,Uplifted,Tingly,Creative</td>\n",
       "      <td>Pungent,Citrus,Tropical</td>\n",
       "      <td>Afternoon Delight, created by Colorado Seed In...</td>\n",
       "    </tr>\n",
       "  </tbody>\n",
       "</table>\n",
       "</div>"
      ],
      "text/plain": [
       "                name id    race                          flavors  \\\n",
       "0              Afpak  1  hybrid         [Earthy, Chemical, Pine]   \n",
       "1            African  2  sativa  [Spicy/Herbal, Pungent, Earthy]   \n",
       "2  Afternoon Delight  3  hybrid          [Pepper, Flowery, Pine]   \n",
       "\n",
       "                                            positive  \\\n",
       "0                   [Relaxed, Hungry, Happy, Sleepy]   \n",
       "1  [Euphoric, Happy, Creative, Energetic, Talkative]   \n",
       "2      [Relaxed, Hungry, Euphoric, Uplifted, Tingly]   \n",
       "\n",
       "                       negative  \\\n",
       "0                       [Dizzy]   \n",
       "1                   [Dry Mouth]   \n",
       "2  [Dizzy, Dry Mouth, Paranoid]   \n",
       "\n",
       "                                             medical  Rating  \\\n",
       "0  [Depression, Insomnia, Pain, Stress, Lack of A...     4.2   \n",
       "1  [Depression, Pain, Stress, Lack of Appetite, N...     3.9   \n",
       "2  [Depression, Insomnia, Pain, Stress, Cramps, H...     4.8   \n",
       "\n",
       "                                      Effects                       Flavor  \\\n",
       "0       Relaxed,Creative,Focused,Sleepy,Happy     Pine,Spicy/Herbal,Earthy   \n",
       "1  Euphoric,Energetic,Aroused,Tingly,Creative  Spicy/Herbal,Pungent,Pepper   \n",
       "2  Talkative,Relaxed,Uplifted,Tingly,Creative      Pungent,Citrus,Tropical   \n",
       "\n",
       "                                         Description  \n",
       "0  Afpak, named for its direct Afghani and Pakist...  \n",
       "1  African refers to the indigenous varieties of ...  \n",
       "2  Afternoon Delight, created by Colorado Seed In...  "
      ]
     },
     "execution_count": 12,
     "metadata": {},
     "output_type": "execute_result"
    }
   ],
   "source": [
    "merged = df_strain.merge(df_kag, how='inner', on=['name', 'race'])\n",
    "\n",
    "print(merged.shape)\n",
    "merged.head(3)"
   ]
  },
  {
   "cell_type": "markdown",
   "metadata": {},
   "source": [
    "### Clean and combine columns in the two datasets to form more complete columns\n",
    "#### For example, we can combine all the flavors in the two columns for a more complete list of descriptors for the flavors"
   ]
  },
  {
   "cell_type": "code",
   "execution_count": 15,
   "metadata": {},
   "outputs": [
    {
     "ename": "KeyError",
     "evalue": "'Flavor'",
     "output_type": "error",
     "traceback": [
      "\u001b[1;31m---------------------------------------------------------------------------\u001b[0m",
      "\u001b[1;31mTypeError\u001b[0m                                 Traceback (most recent call last)",
      "\u001b[1;32mc:\\users\\dylan nason\\anaconda3\\envs\\mc4_02_07\\lib\\site-packages\\pandas\\core\\indexes\\base.py\u001b[0m in \u001b[0;36mget_value\u001b[1;34m(self, series, key)\u001b[0m\n\u001b[0;32m   4410\u001b[0m             \u001b[1;32mtry\u001b[0m\u001b[1;33m:\u001b[0m\u001b[1;33m\u001b[0m\u001b[1;33m\u001b[0m\u001b[0m\n\u001b[1;32m-> 4411\u001b[1;33m                 \u001b[1;32mreturn\u001b[0m \u001b[0mlibindex\u001b[0m\u001b[1;33m.\u001b[0m\u001b[0mget_value_at\u001b[0m\u001b[1;33m(\u001b[0m\u001b[0ms\u001b[0m\u001b[1;33m,\u001b[0m \u001b[0mkey\u001b[0m\u001b[1;33m)\u001b[0m\u001b[1;33m\u001b[0m\u001b[1;33m\u001b[0m\u001b[0m\n\u001b[0m\u001b[0;32m   4412\u001b[0m             \u001b[1;32mexcept\u001b[0m \u001b[0mIndexError\u001b[0m\u001b[1;33m:\u001b[0m\u001b[1;33m\u001b[0m\u001b[1;33m\u001b[0m\u001b[0m\n",
      "\u001b[1;32mpandas\\_libs\\index.pyx\u001b[0m in \u001b[0;36mpandas._libs.index.get_value_at\u001b[1;34m()\u001b[0m\n",
      "\u001b[1;32mpandas\\_libs\\index.pyx\u001b[0m in \u001b[0;36mpandas._libs.index.get_value_at\u001b[1;34m()\u001b[0m\n",
      "\u001b[1;32mpandas\\_libs\\util.pxd\u001b[0m in \u001b[0;36mpandas._libs.util.get_value_at\u001b[1;34m()\u001b[0m\n",
      "\u001b[1;32mpandas\\_libs\\util.pxd\u001b[0m in \u001b[0;36mpandas._libs.util.validate_indexer\u001b[1;34m()\u001b[0m\n",
      "\u001b[1;31mTypeError\u001b[0m: 'str' object cannot be interpreted as an integer",
      "\nDuring handling of the above exception, another exception occurred:\n",
      "\u001b[1;31mKeyError\u001b[0m                                  Traceback (most recent call last)",
      "\u001b[1;32m<ipython-input-15-0072b5e7c4ed>\u001b[0m in \u001b[0;36m<module>\u001b[1;34m\u001b[0m\n\u001b[0;32m      1\u001b[0m \u001b[1;31m#The flavors in the kaggle dataset can have any new flavors added to the list from the strain api\u001b[0m\u001b[1;33m\u001b[0m\u001b[1;33m\u001b[0m\u001b[1;33m\u001b[0m\u001b[0m\n\u001b[0;32m      2\u001b[0m \u001b[1;32mfor\u001b[0m \u001b[0mindex\u001b[0m\u001b[1;33m,\u001b[0m \u001b[0mrow\u001b[0m \u001b[1;32min\u001b[0m \u001b[0mmerged\u001b[0m\u001b[1;33m.\u001b[0m\u001b[0miterrows\u001b[0m\u001b[1;33m(\u001b[0m\u001b[1;33m)\u001b[0m\u001b[1;33m:\u001b[0m\u001b[1;33m\u001b[0m\u001b[1;33m\u001b[0m\u001b[0m\n\u001b[1;32m----> 3\u001b[1;33m     \u001b[1;32mfor\u001b[0m \u001b[0mflav\u001b[0m \u001b[1;32min\u001b[0m \u001b[0mrow\u001b[0m\u001b[1;33m[\u001b[0m\u001b[1;34m'Flavor'\u001b[0m\u001b[1;33m]\u001b[0m\u001b[1;33m.\u001b[0m\u001b[0msplit\u001b[0m\u001b[1;33m(\u001b[0m\u001b[1;34m','\u001b[0m\u001b[1;33m)\u001b[0m\u001b[1;33m:\u001b[0m\u001b[1;33m\u001b[0m\u001b[1;33m\u001b[0m\u001b[0m\n\u001b[0m\u001b[0;32m      4\u001b[0m         \u001b[1;32mif\u001b[0m \u001b[0mflav\u001b[0m \u001b[1;32mnot\u001b[0m \u001b[1;32min\u001b[0m \u001b[0mrow\u001b[0m\u001b[1;33m[\u001b[0m\u001b[1;34m'flavors'\u001b[0m\u001b[1;33m]\u001b[0m\u001b[1;33m:\u001b[0m\u001b[1;33m\u001b[0m\u001b[1;33m\u001b[0m\u001b[0m\n\u001b[0;32m      5\u001b[0m             \u001b[0mrow\u001b[0m\u001b[1;33m[\u001b[0m\u001b[1;34m'flavors'\u001b[0m\u001b[1;33m]\u001b[0m\u001b[1;33m.\u001b[0m\u001b[0mappend\u001b[0m\u001b[1;33m(\u001b[0m\u001b[0mflav\u001b[0m\u001b[1;33m)\u001b[0m\u001b[1;33m\u001b[0m\u001b[1;33m\u001b[0m\u001b[0m\n",
      "\u001b[1;32mc:\\users\\dylan nason\\anaconda3\\envs\\mc4_02_07\\lib\\site-packages\\pandas\\core\\series.py\u001b[0m in \u001b[0;36m__getitem__\u001b[1;34m(self, key)\u001b[0m\n\u001b[0;32m    869\u001b[0m         \u001b[0mkey\u001b[0m \u001b[1;33m=\u001b[0m \u001b[0mcom\u001b[0m\u001b[1;33m.\u001b[0m\u001b[0mapply_if_callable\u001b[0m\u001b[1;33m(\u001b[0m\u001b[0mkey\u001b[0m\u001b[1;33m,\u001b[0m \u001b[0mself\u001b[0m\u001b[1;33m)\u001b[0m\u001b[1;33m\u001b[0m\u001b[1;33m\u001b[0m\u001b[0m\n\u001b[0;32m    870\u001b[0m         \u001b[1;32mtry\u001b[0m\u001b[1;33m:\u001b[0m\u001b[1;33m\u001b[0m\u001b[1;33m\u001b[0m\u001b[0m\n\u001b[1;32m--> 871\u001b[1;33m             \u001b[0mresult\u001b[0m \u001b[1;33m=\u001b[0m \u001b[0mself\u001b[0m\u001b[1;33m.\u001b[0m\u001b[0mindex\u001b[0m\u001b[1;33m.\u001b[0m\u001b[0mget_value\u001b[0m\u001b[1;33m(\u001b[0m\u001b[0mself\u001b[0m\u001b[1;33m,\u001b[0m \u001b[0mkey\u001b[0m\u001b[1;33m)\u001b[0m\u001b[1;33m\u001b[0m\u001b[1;33m\u001b[0m\u001b[0m\n\u001b[0m\u001b[0;32m    872\u001b[0m \u001b[1;33m\u001b[0m\u001b[0m\n\u001b[0;32m    873\u001b[0m             \u001b[1;32mif\u001b[0m \u001b[1;32mnot\u001b[0m \u001b[0mis_scalar\u001b[0m\u001b[1;33m(\u001b[0m\u001b[0mresult\u001b[0m\u001b[1;33m)\u001b[0m\u001b[1;33m:\u001b[0m\u001b[1;33m\u001b[0m\u001b[1;33m\u001b[0m\u001b[0m\n",
      "\u001b[1;32mc:\\users\\dylan nason\\anaconda3\\envs\\mc4_02_07\\lib\\site-packages\\pandas\\core\\indexes\\base.py\u001b[0m in \u001b[0;36mget_value\u001b[1;34m(self, series, key)\u001b[0m\n\u001b[0;32m   4417\u001b[0m                     \u001b[1;32mraise\u001b[0m \u001b[0mInvalidIndexError\u001b[0m\u001b[1;33m(\u001b[0m\u001b[0mkey\u001b[0m\u001b[1;33m)\u001b[0m\u001b[1;33m\u001b[0m\u001b[1;33m\u001b[0m\u001b[0m\n\u001b[0;32m   4418\u001b[0m                 \u001b[1;32melse\u001b[0m\u001b[1;33m:\u001b[0m\u001b[1;33m\u001b[0m\u001b[1;33m\u001b[0m\u001b[0m\n\u001b[1;32m-> 4419\u001b[1;33m                     \u001b[1;32mraise\u001b[0m \u001b[0me1\u001b[0m\u001b[1;33m\u001b[0m\u001b[1;33m\u001b[0m\u001b[0m\n\u001b[0m\u001b[0;32m   4420\u001b[0m             \u001b[1;32mexcept\u001b[0m \u001b[0mException\u001b[0m\u001b[1;33m:\u001b[0m\u001b[1;33m\u001b[0m\u001b[1;33m\u001b[0m\u001b[0m\n\u001b[0;32m   4421\u001b[0m                 \u001b[1;32mraise\u001b[0m \u001b[0me1\u001b[0m\u001b[1;33m\u001b[0m\u001b[1;33m\u001b[0m\u001b[0m\n",
      "\u001b[1;32mc:\\users\\dylan nason\\anaconda3\\envs\\mc4_02_07\\lib\\site-packages\\pandas\\core\\indexes\\base.py\u001b[0m in \u001b[0;36mget_value\u001b[1;34m(self, series, key)\u001b[0m\n\u001b[0;32m   4403\u001b[0m         \u001b[0mk\u001b[0m \u001b[1;33m=\u001b[0m \u001b[0mself\u001b[0m\u001b[1;33m.\u001b[0m\u001b[0m_convert_scalar_indexer\u001b[0m\u001b[1;33m(\u001b[0m\u001b[0mk\u001b[0m\u001b[1;33m,\u001b[0m \u001b[0mkind\u001b[0m\u001b[1;33m=\u001b[0m\u001b[1;34m\"getitem\"\u001b[0m\u001b[1;33m)\u001b[0m\u001b[1;33m\u001b[0m\u001b[1;33m\u001b[0m\u001b[0m\n\u001b[0;32m   4404\u001b[0m         \u001b[1;32mtry\u001b[0m\u001b[1;33m:\u001b[0m\u001b[1;33m\u001b[0m\u001b[1;33m\u001b[0m\u001b[0m\n\u001b[1;32m-> 4405\u001b[1;33m             \u001b[1;32mreturn\u001b[0m \u001b[0mself\u001b[0m\u001b[1;33m.\u001b[0m\u001b[0m_engine\u001b[0m\u001b[1;33m.\u001b[0m\u001b[0mget_value\u001b[0m\u001b[1;33m(\u001b[0m\u001b[0ms\u001b[0m\u001b[1;33m,\u001b[0m \u001b[0mk\u001b[0m\u001b[1;33m,\u001b[0m \u001b[0mtz\u001b[0m\u001b[1;33m=\u001b[0m\u001b[0mgetattr\u001b[0m\u001b[1;33m(\u001b[0m\u001b[0mseries\u001b[0m\u001b[1;33m.\u001b[0m\u001b[0mdtype\u001b[0m\u001b[1;33m,\u001b[0m \u001b[1;34m\"tz\"\u001b[0m\u001b[1;33m,\u001b[0m \u001b[1;32mNone\u001b[0m\u001b[1;33m)\u001b[0m\u001b[1;33m)\u001b[0m\u001b[1;33m\u001b[0m\u001b[1;33m\u001b[0m\u001b[0m\n\u001b[0m\u001b[0;32m   4406\u001b[0m         \u001b[1;32mexcept\u001b[0m \u001b[0mKeyError\u001b[0m \u001b[1;32mas\u001b[0m \u001b[0me1\u001b[0m\u001b[1;33m:\u001b[0m\u001b[1;33m\u001b[0m\u001b[1;33m\u001b[0m\u001b[0m\n\u001b[0;32m   4407\u001b[0m             \u001b[1;32mif\u001b[0m \u001b[0mlen\u001b[0m\u001b[1;33m(\u001b[0m\u001b[0mself\u001b[0m\u001b[1;33m)\u001b[0m \u001b[1;33m>\u001b[0m \u001b[1;36m0\u001b[0m \u001b[1;32mand\u001b[0m \u001b[1;33m(\u001b[0m\u001b[0mself\u001b[0m\u001b[1;33m.\u001b[0m\u001b[0mholds_integer\u001b[0m\u001b[1;33m(\u001b[0m\u001b[1;33m)\u001b[0m \u001b[1;32mor\u001b[0m \u001b[0mself\u001b[0m\u001b[1;33m.\u001b[0m\u001b[0mis_boolean\u001b[0m\u001b[1;33m(\u001b[0m\u001b[1;33m)\u001b[0m\u001b[1;33m)\u001b[0m\u001b[1;33m:\u001b[0m\u001b[1;33m\u001b[0m\u001b[1;33m\u001b[0m\u001b[0m\n",
      "\u001b[1;32mpandas\\_libs\\index.pyx\u001b[0m in \u001b[0;36mpandas._libs.index.IndexEngine.get_value\u001b[1;34m()\u001b[0m\n",
      "\u001b[1;32mpandas\\_libs\\index.pyx\u001b[0m in \u001b[0;36mpandas._libs.index.IndexEngine.get_value\u001b[1;34m()\u001b[0m\n",
      "\u001b[1;32mpandas\\_libs\\index.pyx\u001b[0m in \u001b[0;36mpandas._libs.index.IndexEngine.get_loc\u001b[1;34m()\u001b[0m\n",
      "\u001b[1;32mpandas\\_libs\\hashtable_class_helper.pxi\u001b[0m in \u001b[0;36mpandas._libs.hashtable.PyObjectHashTable.get_item\u001b[1;34m()\u001b[0m\n",
      "\u001b[1;32mpandas\\_libs\\hashtable_class_helper.pxi\u001b[0m in \u001b[0;36mpandas._libs.hashtable.PyObjectHashTable.get_item\u001b[1;34m()\u001b[0m\n",
      "\u001b[1;31mKeyError\u001b[0m: 'Flavor'"
     ]
    }
   ],
   "source": [
    "#The flavors in the kaggle dataset can have any new flavors added to the list from the strain api\n",
    "for index, row in merged.iterrows():\n",
    "    for flav in row['Flavor'].split(','):\n",
    "        if flav not in row['flavors']:\n",
    "            row['flavors'].append(flav)\n",
    "\n",
    "merged = merged.drop('Flavor', axis=1)\n",
    "\n",
    "\n",
    "#The kaggle dataset only lists positive effects, so we can append any effects that are new to the list of positive effects\n",
    "for index, row in merged[:10].iterrows():\n",
    "    print(type(row['Effects']))\n",
    "    for effect in row['Effects'].split(','):\n",
    "        if effect not in row['positive']:\n",
    "            row['positive'].append(effect)\n",
    "            \n",
    "#merged = merged.drop('Effects', axis=1)\n",
    "\n",
    "#merged = merged.set_index('id')"
   ]
  },
  {
   "cell_type": "markdown",
   "metadata": {},
   "source": [
    "## Final Dataset"
   ]
  },
  {
   "cell_type": "code",
   "execution_count": 17,
   "metadata": {},
   "outputs": [
    {
     "name": "stdout",
     "output_type": "stream",
     "text": [
      "Final Merged Dataset Shape: (1495, 8)\n"
     ]
    },
    {
     "data": {
      "text/html": [
       "<div>\n",
       "<style scoped>\n",
       "    .dataframe tbody tr th:only-of-type {\n",
       "        vertical-align: middle;\n",
       "    }\n",
       "\n",
       "    .dataframe tbody tr th {\n",
       "        vertical-align: top;\n",
       "    }\n",
       "\n",
       "    .dataframe thead th {\n",
       "        text-align: right;\n",
       "    }\n",
       "</style>\n",
       "<table border=\"1\" class=\"dataframe\">\n",
       "  <thead>\n",
       "    <tr style=\"text-align: right;\">\n",
       "      <th></th>\n",
       "      <th>name</th>\n",
       "      <th>race</th>\n",
       "      <th>flavors</th>\n",
       "      <th>positive</th>\n",
       "      <th>negative</th>\n",
       "      <th>medical</th>\n",
       "      <th>Rating</th>\n",
       "      <th>Description</th>\n",
       "    </tr>\n",
       "    <tr>\n",
       "      <th>id</th>\n",
       "      <th></th>\n",
       "      <th></th>\n",
       "      <th></th>\n",
       "      <th></th>\n",
       "      <th></th>\n",
       "      <th></th>\n",
       "      <th></th>\n",
       "      <th></th>\n",
       "    </tr>\n",
       "  </thead>\n",
       "  <tbody>\n",
       "    <tr>\n",
       "      <th>1</th>\n",
       "      <td>Afpak</td>\n",
       "      <td>hybrid</td>\n",
       "      <td>[Earthy, Chemical, Pine, Spicy/Herbal]</td>\n",
       "      <td>[Relaxed, Hungry, Happy, Sleepy, Creative, Foc...</td>\n",
       "      <td>[Dizzy]</td>\n",
       "      <td>[Depression, Insomnia, Pain, Stress, Lack of A...</td>\n",
       "      <td>4.2</td>\n",
       "      <td>Afpak, named for its direct Afghani and Pakist...</td>\n",
       "    </tr>\n",
       "    <tr>\n",
       "      <th>2</th>\n",
       "      <td>African</td>\n",
       "      <td>sativa</td>\n",
       "      <td>[Spicy/Herbal, Pungent, Earthy, Pepper]</td>\n",
       "      <td>[Euphoric, Happy, Creative, Energetic, Talkati...</td>\n",
       "      <td>[Dry Mouth]</td>\n",
       "      <td>[Depression, Pain, Stress, Lack of Appetite, N...</td>\n",
       "      <td>3.9</td>\n",
       "      <td>African refers to the indigenous varieties of ...</td>\n",
       "    </tr>\n",
       "    <tr>\n",
       "      <th>3</th>\n",
       "      <td>Afternoon Delight</td>\n",
       "      <td>hybrid</td>\n",
       "      <td>[Pepper, Flowery, Pine, Pungent, Citrus, Tropi...</td>\n",
       "      <td>[Relaxed, Hungry, Euphoric, Uplifted, Tingly, ...</td>\n",
       "      <td>[Dizzy, Dry Mouth, Paranoid]</td>\n",
       "      <td>[Depression, Insomnia, Pain, Stress, Cramps, H...</td>\n",
       "      <td>4.8</td>\n",
       "      <td>Afternoon Delight, created by Colorado Seed In...</td>\n",
       "    </tr>\n",
       "    <tr>\n",
       "      <th>4</th>\n",
       "      <td>Afwreck</td>\n",
       "      <td>hybrid</td>\n",
       "      <td>[Pine, Earthy, Flowery, Pungent]</td>\n",
       "      <td>[Relaxed, Happy, Creative, Uplifted, Sleepy, E...</td>\n",
       "      <td>[Dizzy, Dry Mouth, Paranoid, Dry Eyes]</td>\n",
       "      <td>[Pain, Stress, Headache, Fatigue, Headaches, M...</td>\n",
       "      <td>4.2</td>\n",
       "      <td>Afwreck is a hybrid cross of Afghani and Train...</td>\n",
       "    </tr>\n",
       "    <tr>\n",
       "      <th>5</th>\n",
       "      <td>Agent Orange</td>\n",
       "      <td>hybrid</td>\n",
       "      <td>[Citrus, Orange, Sweet, Earthy]</td>\n",
       "      <td>[Relaxed, Euphoric, Happy, Energetic, Uplifted]</td>\n",
       "      <td>[Dizzy, Dry Mouth, Paranoid, Dry Eyes]</td>\n",
       "      <td>[Depression, Pain, Stress, Nausea, Headache, H...</td>\n",
       "      <td>4.2</td>\n",
       "      <td>Don’t let the name scare you! The only herbici...</td>\n",
       "    </tr>\n",
       "  </tbody>\n",
       "</table>\n",
       "</div>"
      ],
      "text/plain": [
       "                 name    race  \\\n",
       "id                              \n",
       "1               Afpak  hybrid   \n",
       "2             African  sativa   \n",
       "3   Afternoon Delight  hybrid   \n",
       "4             Afwreck  hybrid   \n",
       "5        Agent Orange  hybrid   \n",
       "\n",
       "                                              flavors  \\\n",
       "id                                                      \n",
       "1              [Earthy, Chemical, Pine, Spicy/Herbal]   \n",
       "2             [Spicy/Herbal, Pungent, Earthy, Pepper]   \n",
       "3   [Pepper, Flowery, Pine, Pungent, Citrus, Tropi...   \n",
       "4                    [Pine, Earthy, Flowery, Pungent]   \n",
       "5                     [Citrus, Orange, Sweet, Earthy]   \n",
       "\n",
       "                                             positive  \\\n",
       "id                                                      \n",
       "1   [Relaxed, Hungry, Happy, Sleepy, Creative, Foc...   \n",
       "2   [Euphoric, Happy, Creative, Energetic, Talkati...   \n",
       "3   [Relaxed, Hungry, Euphoric, Uplifted, Tingly, ...   \n",
       "4   [Relaxed, Happy, Creative, Uplifted, Sleepy, E...   \n",
       "5     [Relaxed, Euphoric, Happy, Energetic, Uplifted]   \n",
       "\n",
       "                                  negative  \\\n",
       "id                                           \n",
       "1                                  [Dizzy]   \n",
       "2                              [Dry Mouth]   \n",
       "3             [Dizzy, Dry Mouth, Paranoid]   \n",
       "4   [Dizzy, Dry Mouth, Paranoid, Dry Eyes]   \n",
       "5   [Dizzy, Dry Mouth, Paranoid, Dry Eyes]   \n",
       "\n",
       "                                              medical  Rating  \\\n",
       "id                                                              \n",
       "1   [Depression, Insomnia, Pain, Stress, Lack of A...     4.2   \n",
       "2   [Depression, Pain, Stress, Lack of Appetite, N...     3.9   \n",
       "3   [Depression, Insomnia, Pain, Stress, Cramps, H...     4.8   \n",
       "4   [Pain, Stress, Headache, Fatigue, Headaches, M...     4.2   \n",
       "5   [Depression, Pain, Stress, Nausea, Headache, H...     4.2   \n",
       "\n",
       "                                          Description  \n",
       "id                                                     \n",
       "1   Afpak, named for its direct Afghani and Pakist...  \n",
       "2   African refers to the indigenous varieties of ...  \n",
       "3   Afternoon Delight, created by Colorado Seed In...  \n",
       "4   Afwreck is a hybrid cross of Afghani and Train...  \n",
       "5   Don’t let the name scare you! The only herbici...  "
      ]
     },
     "execution_count": 17,
     "metadata": {},
     "output_type": "execute_result"
    }
   ],
   "source": [
    "print('Final Merged Dataset Shape: {}'.format(merged.shape))\n",
    "merged.head()"
   ]
  },
  {
   "cell_type": "code",
   "execution_count": 23,
   "metadata": {},
   "outputs": [],
   "source": [
    "import psycopg2\n",
    "\n",
    "dbname = 'wpcemuam'\n",
    "user = 'wpcemuam'\n",
    "password = 'o1IlDK_IQWtFF0Pmc8hoV8ItZ_P5zYIR'\n",
    "host = 'rajje.db.elephantsql.com'\n",
    "\n",
    "pg_conn = psycopg2.connect(dbname= dbname, user=user, password=password, host=host)"
   ]
  },
  {
   "cell_type": "code",
   "execution_count": 63,
   "metadata": {},
   "outputs": [],
   "source": [
    "t = merged.copy()"
   ]
  },
  {
   "cell_type": "code",
   "execution_count": 64,
   "metadata": {},
   "outputs": [],
   "source": [
    "t = t.astype(str)"
   ]
  },
  {
   "cell_type": "code",
   "execution_count": 88,
   "metadata": {},
   "outputs": [],
   "source": [
    "a = t.to_csv(open('test.csv', 'w', encoding=\"utf-8\"), header=False, index_label=False)"
   ]
  },
  {
   "cell_type": "code",
   "execution_count": 89,
   "metadata": {},
   "outputs": [],
   "source": [
    "curs = pg_conn.cursor()"
   ]
  },
  {
   "cell_type": "code",
   "execution_count": 91,
   "metadata": {},
   "outputs": [],
   "source": [
    "query = \"\"\"\n",
    "    CREATE TABLE strains (\n",
    "        id smallint,\n",
    "        name varchar,\n",
    "        race varchar,\n",
    "        flavors text[],\n",
    "        positive text[],\n",
    "        negative text[],\n",
    "        medical text[],\n",
    "        Rating float,\n",
    "        Description text\n",
    "    )\n",
    "\"\"\"\n",
    "\n",
    "curs.execute(query)"
   ]
  },
  {
   "cell_type": "code",
   "execution_count": 93,
   "metadata": {},
   "outputs": [],
   "source": [
    "curs.close()\n",
    "pg_conn.commit()"
   ]
  },
  {
   "cell_type": "code",
   "execution_count": 94,
   "metadata": {},
   "outputs": [],
   "source": [
    "curs = pg_conn.cursor()\n",
    "\n",
    "query = \"\"\"\n",
    "    COPY strains FROM test.csv\n",
    "\"\"\""
   ]
  },
  {
   "cell_type": "code",
   "execution_count": 96,
   "metadata": {},
   "outputs": [],
   "source": [
    "curs.close()\n",
    "pg_conn.commit()"
   ]
  },
  {
   "cell_type": "code",
   "execution_count": null,
   "metadata": {},
   "outputs": [],
   "source": []
  }
 ],
 "metadata": {
  "kernelspec": {
   "display_name": "Python 3",
   "language": "python",
   "name": "python3"
  },
  "language_info": {
   "codemirror_mode": {
    "name": "ipython",
    "version": 3
   },
   "file_extension": ".py",
   "mimetype": "text/x-python",
   "name": "python",
   "nbconvert_exporter": "python",
   "pygments_lexer": "ipython3",
   "version": "3.6.7"
  }
 },
 "nbformat": 4,
 "nbformat_minor": 4
}
