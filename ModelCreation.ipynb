{
 "cells": [
  {
   "cell_type": "code",
   "execution_count": 1,
   "metadata": {},
   "outputs": [],
   "source": [
    "import pandas as pd\n",
    "import spacy"
   ]
  },
  {
   "cell_type": "code",
   "execution_count": 2,
   "metadata": {},
   "outputs": [],
   "source": [
    "#url = 'https://raw.githubusercontent.com/DNason1999/simple_repository/master/df_merged.csv'\n",
    "url = './Data/best_merge.csv'\n",
    "df = pd.read_csv(url)"
   ]
  },
  {
   "cell_type": "code",
   "execution_count": 3,
   "metadata": {},
   "outputs": [],
   "source": [
    "df = df[['id', 'name', 'race', 'Description', 'Rating', 'flavors', 'positive', 'negative', 'medical']]"
   ]
  },
  {
   "cell_type": "code",
   "execution_count": 4,
   "metadata": {},
   "outputs": [],
   "source": [
    "target = list(df.index)"
   ]
  },
  {
   "cell_type": "code",
   "execution_count": 5,
   "metadata": {},
   "outputs": [],
   "source": [
    "df = df.set_index('id')"
   ]
  },
  {
   "cell_type": "code",
   "execution_count": 6,
   "metadata": {},
   "outputs": [
    {
     "data": {
      "text/plain": [
       "(2826, 8)"
      ]
     },
     "execution_count": 6,
     "metadata": {},
     "output_type": "execute_result"
    }
   ],
   "source": [
    "df.shape"
   ]
  },
  {
   "cell_type": "code",
   "execution_count": 7,
   "metadata": {},
   "outputs": [
    {
     "data": {
      "text/html": [
       "<div>\n",
       "<style scoped>\n",
       "    .dataframe tbody tr th:only-of-type {\n",
       "        vertical-align: middle;\n",
       "    }\n",
       "\n",
       "    .dataframe tbody tr th {\n",
       "        vertical-align: top;\n",
       "    }\n",
       "\n",
       "    .dataframe thead th {\n",
       "        text-align: right;\n",
       "    }\n",
       "</style>\n",
       "<table border=\"1\" class=\"dataframe\">\n",
       "  <thead>\n",
       "    <tr style=\"text-align: right;\">\n",
       "      <th></th>\n",
       "      <th>name</th>\n",
       "      <th>race</th>\n",
       "      <th>Description</th>\n",
       "      <th>Rating</th>\n",
       "      <th>flavors</th>\n",
       "      <th>positive</th>\n",
       "      <th>negative</th>\n",
       "      <th>medical</th>\n",
       "    </tr>\n",
       "    <tr>\n",
       "      <th>id</th>\n",
       "      <th></th>\n",
       "      <th></th>\n",
       "      <th></th>\n",
       "      <th></th>\n",
       "      <th></th>\n",
       "      <th></th>\n",
       "      <th></th>\n",
       "      <th></th>\n",
       "    </tr>\n",
       "  </thead>\n",
       "  <tbody>\n",
       "    <tr>\n",
       "      <th>1</th>\n",
       "      <td>Afpak</td>\n",
       "      <td>hybrid</td>\n",
       "      <td>Afpak, named for its direct Afghani and Pakist...</td>\n",
       "      <td>4.2</td>\n",
       "      <td>['Earthy', 'Chemical', 'Pine', 'Spicy/Herbal']</td>\n",
       "      <td>['Relaxed', 'Hungry', 'Happy', 'Sleepy', 'Crea...</td>\n",
       "      <td>['Dizzy']</td>\n",
       "      <td>['Depression', 'Insomnia', 'Pain', 'Stress', '...</td>\n",
       "    </tr>\n",
       "    <tr>\n",
       "      <th>2</th>\n",
       "      <td>African</td>\n",
       "      <td>sativa</td>\n",
       "      <td>African refers to the indigenous varieties of ...</td>\n",
       "      <td>3.9</td>\n",
       "      <td>['Spicy/Herbal', 'Pungent', 'Earthy', 'Pepper']</td>\n",
       "      <td>['Euphoric', 'Happy', 'Creative', 'Energetic',...</td>\n",
       "      <td>['Dry Mouth']</td>\n",
       "      <td>['Depression', 'Pain', 'Stress', 'Lack of Appe...</td>\n",
       "    </tr>\n",
       "    <tr>\n",
       "      <th>3</th>\n",
       "      <td>Afternoon Delight</td>\n",
       "      <td>hybrid</td>\n",
       "      <td>Afternoon Delight, created by Colorado Seed In...</td>\n",
       "      <td>4.8</td>\n",
       "      <td>['Pepper', 'Flowery', 'Pine', 'Pungent', 'Citr...</td>\n",
       "      <td>['Relaxed', 'Hungry', 'Euphoric', 'Uplifted', ...</td>\n",
       "      <td>['Dizzy', 'Dry Mouth', 'Paranoid']</td>\n",
       "      <td>['Depression', 'Insomnia', 'Pain', 'Stress', '...</td>\n",
       "    </tr>\n",
       "    <tr>\n",
       "      <th>4</th>\n",
       "      <td>Afwreck</td>\n",
       "      <td>hybrid</td>\n",
       "      <td>Afwreck is a hybrid cross of Afghani and Train...</td>\n",
       "      <td>4.2</td>\n",
       "      <td>['Pine', 'Earthy', 'Flowery', 'Pungent']</td>\n",
       "      <td>['Relaxed', 'Happy', 'Creative', 'Uplifted', '...</td>\n",
       "      <td>['Dizzy', 'Dry Mouth', 'Paranoid', 'Dry Eyes']</td>\n",
       "      <td>['Pain', 'Stress', 'Headache', 'Fatigue', 'Hea...</td>\n",
       "    </tr>\n",
       "    <tr>\n",
       "      <th>5</th>\n",
       "      <td>Agent Orange</td>\n",
       "      <td>hybrid</td>\n",
       "      <td>Don’t let the name scare you! The only herbici...</td>\n",
       "      <td>4.2</td>\n",
       "      <td>['Citrus', 'Orange', 'Sweet', 'Earthy']</td>\n",
       "      <td>['Relaxed', 'Euphoric', 'Happy', 'Energetic', ...</td>\n",
       "      <td>['Dizzy', 'Dry Mouth', 'Paranoid', 'Dry Eyes']</td>\n",
       "      <td>['Depression', 'Pain', 'Stress', 'Nausea', 'He...</td>\n",
       "    </tr>\n",
       "  </tbody>\n",
       "</table>\n",
       "</div>"
      ],
      "text/plain": [
       "                 name    race  \\\n",
       "id                              \n",
       "1               Afpak  hybrid   \n",
       "2             African  sativa   \n",
       "3   Afternoon Delight  hybrid   \n",
       "4             Afwreck  hybrid   \n",
       "5        Agent Orange  hybrid   \n",
       "\n",
       "                                          Description  Rating  \\\n",
       "id                                                              \n",
       "1   Afpak, named for its direct Afghani and Pakist...     4.2   \n",
       "2   African refers to the indigenous varieties of ...     3.9   \n",
       "3   Afternoon Delight, created by Colorado Seed In...     4.8   \n",
       "4   Afwreck is a hybrid cross of Afghani and Train...     4.2   \n",
       "5   Don’t let the name scare you! The only herbici...     4.2   \n",
       "\n",
       "                                              flavors  \\\n",
       "id                                                      \n",
       "1      ['Earthy', 'Chemical', 'Pine', 'Spicy/Herbal']   \n",
       "2     ['Spicy/Herbal', 'Pungent', 'Earthy', 'Pepper']   \n",
       "3   ['Pepper', 'Flowery', 'Pine', 'Pungent', 'Citr...   \n",
       "4            ['Pine', 'Earthy', 'Flowery', 'Pungent']   \n",
       "5             ['Citrus', 'Orange', 'Sweet', 'Earthy']   \n",
       "\n",
       "                                             positive  \\\n",
       "id                                                      \n",
       "1   ['Relaxed', 'Hungry', 'Happy', 'Sleepy', 'Crea...   \n",
       "2   ['Euphoric', 'Happy', 'Creative', 'Energetic',...   \n",
       "3   ['Relaxed', 'Hungry', 'Euphoric', 'Uplifted', ...   \n",
       "4   ['Relaxed', 'Happy', 'Creative', 'Uplifted', '...   \n",
       "5   ['Relaxed', 'Euphoric', 'Happy', 'Energetic', ...   \n",
       "\n",
       "                                          negative  \\\n",
       "id                                                   \n",
       "1                                        ['Dizzy']   \n",
       "2                                    ['Dry Mouth']   \n",
       "3               ['Dizzy', 'Dry Mouth', 'Paranoid']   \n",
       "4   ['Dizzy', 'Dry Mouth', 'Paranoid', 'Dry Eyes']   \n",
       "5   ['Dizzy', 'Dry Mouth', 'Paranoid', 'Dry Eyes']   \n",
       "\n",
       "                                              medical  \n",
       "id                                                     \n",
       "1   ['Depression', 'Insomnia', 'Pain', 'Stress', '...  \n",
       "2   ['Depression', 'Pain', 'Stress', 'Lack of Appe...  \n",
       "3   ['Depression', 'Insomnia', 'Pain', 'Stress', '...  \n",
       "4   ['Pain', 'Stress', 'Headache', 'Fatigue', 'Hea...  \n",
       "5   ['Depression', 'Pain', 'Stress', 'Nausea', 'He...  "
      ]
     },
     "execution_count": 7,
     "metadata": {},
     "output_type": "execute_result"
    }
   ],
   "source": [
    "df.head()"
   ]
  },
  {
   "cell_type": "code",
   "execution_count": 8,
   "metadata": {},
   "outputs": [],
   "source": [
    "texts = []\n",
    "\n",
    "for index, row in df.iterrows():\n",
    "    s = ''\n",
    "    for item in row[1:4]:\n",
    "        if(type(item) == str):\n",
    "            s += item\n",
    "        elif(type(item) == float):\n",
    "            s += str(item)\n",
    "        s += ' '\n",
    "    for item in row[6:]:\n",
    "        if type(item) == float:\n",
    "            pass\n",
    "        else:\n",
    "            for subitem in eval(item):\n",
    "                s += str(subitem)\n",
    "                s+= ' '\n",
    "            s += ' '\n",
    "    s = s.replace('/',' ').replace('  ', ' ')\n",
    "                \n",
    "    texts.append(s)"
   ]
  },
  {
   "cell_type": "code",
   "execution_count": 9,
   "metadata": {},
   "outputs": [],
   "source": [
    "df['text'] = texts"
   ]
  },
  {
   "cell_type": "code",
   "execution_count": 10,
   "metadata": {},
   "outputs": [],
   "source": [
    "from sklearn.feature_extraction.text import TfidfVectorizer\n",
    "\n",
    "tfidf = TfidfVectorizer(stop_words='english', \n",
    "                        ngram_range=([1,1]),\n",
    "                        max_df=.97,\n",
    "                        min_df=3,)\n",
    "\n",
    "dtm = tfidf.fit_transform(df['text'])"
   ]
  },
  {
   "cell_type": "code",
   "execution_count": 11,
   "metadata": {},
   "outputs": [
    {
     "data": {
      "text/plain": [
       "(2826, 3576)"
      ]
     },
     "execution_count": 11,
     "metadata": {},
     "output_type": "execute_result"
    }
   ],
   "source": [
    "dtm.shape"
   ]
  },
  {
   "cell_type": "code",
   "execution_count": 12,
   "metadata": {},
   "outputs": [],
   "source": [
    "dtm = pd.DataFrame(dtm.todense(), columns=tfidf.get_feature_names())"
   ]
  },
  {
   "cell_type": "code",
   "execution_count": 13,
   "metadata": {},
   "outputs": [
    {
     "data": {
      "text/plain": [
       "NearestNeighbors(algorithm='kd_tree', leaf_size=100, metric='minkowski',\n",
       "         metric_params=None, n_jobs=None, n_neighbors=5, p=2, radius=1.0)"
      ]
     },
     "execution_count": 13,
     "metadata": {},
     "output_type": "execute_result"
    }
   ],
   "source": [
    "from sklearn.neighbors import NearestNeighbors\n",
    "\n",
    "nn = NearestNeighbors(n_neighbors=5, algorithm='kd_tree', leaf_size=100)\n",
    "nn.fit(dtm)"
   ]
  },
  {
   "cell_type": "code",
   "execution_count": 81,
   "metadata": {},
   "outputs": [],
   "source": [
    "# import pickle\n",
    "\n",
    "# pickle.dump(tfidf, open('./Models/tfidf.pkl', 'wb'))\n",
    "\n",
    "# pickle.dump(nn, open('./Models/nn.pkl', 'wb'))"
   ]
  },
  {
   "cell_type": "code",
   "execution_count": 14,
   "metadata": {},
   "outputs": [],
   "source": [
    "sample_text = \"\"\"\n",
    "I experience chronic widespread pain that causes my joints, skin, head, and digestive system to hurt, so I need strains that provide significant pain relief. I would also like to find a sleep aid for my insomnia. Depression makes it difficult to wake and get things done, and occasionally, depressive episodes interfere greatly with my function. \n",
    "\"\"\""
   ]
  },
  {
   "cell_type": "code",
   "execution_count": 15,
   "metadata": {},
   "outputs": [],
   "source": [
    "sample_text_tokens = tfidf.transform([sample_text]).todense()"
   ]
  },
  {
   "cell_type": "code",
   "execution_count": 16,
   "metadata": {},
   "outputs": [
    {
     "data": {
      "text/plain": [
       "matrix([[0., 0., 0., ..., 0., 0., 0.]])"
      ]
     },
     "execution_count": 16,
     "metadata": {},
     "output_type": "execute_result"
    }
   ],
   "source": [
    "sample_text_tokens"
   ]
  },
  {
   "cell_type": "code",
   "execution_count": 17,
   "metadata": {},
   "outputs": [],
   "source": [
    "predictions = nn.kneighbors(sample_text_tokens)[1][0]"
   ]
  },
  {
   "cell_type": "code",
   "execution_count": 18,
   "metadata": {},
   "outputs": [],
   "source": [
    "strains = df.iloc[predictions]"
   ]
  },
  {
   "cell_type": "code",
   "execution_count": 19,
   "metadata": {},
   "outputs": [
    {
     "data": {
      "text/html": [
       "<div>\n",
       "<style scoped>\n",
       "    .dataframe tbody tr th:only-of-type {\n",
       "        vertical-align: middle;\n",
       "    }\n",
       "\n",
       "    .dataframe tbody tr th {\n",
       "        vertical-align: top;\n",
       "    }\n",
       "\n",
       "    .dataframe thead th {\n",
       "        text-align: right;\n",
       "    }\n",
       "</style>\n",
       "<table border=\"1\" class=\"dataframe\">\n",
       "  <thead>\n",
       "    <tr style=\"text-align: right;\">\n",
       "      <th></th>\n",
       "      <th>name</th>\n",
       "      <th>race</th>\n",
       "      <th>Description</th>\n",
       "      <th>Rating</th>\n",
       "      <th>flavors</th>\n",
       "      <th>positive</th>\n",
       "      <th>negative</th>\n",
       "      <th>medical</th>\n",
       "      <th>text</th>\n",
       "    </tr>\n",
       "    <tr>\n",
       "      <th>id</th>\n",
       "      <th></th>\n",
       "      <th></th>\n",
       "      <th></th>\n",
       "      <th></th>\n",
       "      <th></th>\n",
       "      <th></th>\n",
       "      <th></th>\n",
       "      <th></th>\n",
       "      <th></th>\n",
       "    </tr>\n",
       "  </thead>\n",
       "  <tbody>\n",
       "    <tr>\n",
       "      <th>936</th>\n",
       "      <td>Green Door Kush</td>\n",
       "      <td>hybrid</td>\n",
       "      <td>Green Door Kush is a hybrid strain that is kno...</td>\n",
       "      <td>4.5</td>\n",
       "      <td>['Citrus', 'Spicy/Herbal', 'Woody']</td>\n",
       "      <td>['Relaxed', 'Euphoric', 'Happy', 'Creative', '...</td>\n",
       "      <td>['Dry Mouth', 'Dry Eyes', 'Anxious']</td>\n",
       "      <td>['Insomnia', 'Pain', 'Stress', 'Nausea', 'Musc...</td>\n",
       "      <td>hybrid Green Door Kush is a hybrid strain that...</td>\n",
       "    </tr>\n",
       "    <tr>\n",
       "      <th>2549</th>\n",
       "      <td>Khola</td>\n",
       "      <td>hybrid</td>\n",
       "      <td>Khola is a sociable cross between Brazilian, T...</td>\n",
       "      <td>4.2</td>\n",
       "      <td>[]</td>\n",
       "      <td>[]</td>\n",
       "      <td>NaN</td>\n",
       "      <td>NaN</td>\n",
       "      <td>hybrid Khola is a sociable cross between Brazi...</td>\n",
       "    </tr>\n",
       "    <tr>\n",
       "      <th>1612</th>\n",
       "      <td>Purple Arrow</td>\n",
       "      <td>hybrid</td>\n",
       "      <td>When it comes to knocking out pain, no medical...</td>\n",
       "      <td>4.2</td>\n",
       "      <td>['Earthy', 'Sweet', 'Citrus']</td>\n",
       "      <td>['Happy', 'Energetic', 'Uplifted', 'Sleepy', '...</td>\n",
       "      <td>['Dizzy', 'Dry Mouth', 'Paranoid', 'Dry Eyes']</td>\n",
       "      <td>['Depression', 'Pain', 'Stress', 'Headache', '...</td>\n",
       "      <td>hybrid When it comes to knocking out pain, no ...</td>\n",
       "    </tr>\n",
       "    <tr>\n",
       "      <th>2237</th>\n",
       "      <td>Avi Dekel</td>\n",
       "      <td>hybrid</td>\n",
       "      <td>Avi-Dekel is a sativa-dominant strain develope...</td>\n",
       "      <td>4.5</td>\n",
       "      <td>[]</td>\n",
       "      <td>[]</td>\n",
       "      <td>NaN</td>\n",
       "      <td>NaN</td>\n",
       "      <td>hybrid Avi-Dekel is a sativa-dominant strain d...</td>\n",
       "    </tr>\n",
       "    <tr>\n",
       "      <th>602</th>\n",
       "      <td>Cornbread</td>\n",
       "      <td>indica</td>\n",
       "      <td>Cornbread by Rare Dankness is an 80/20 indica-...</td>\n",
       "      <td>4.6</td>\n",
       "      <td>['Lemon', 'Citrus', 'Earthy', 'Woody']</td>\n",
       "      <td>['Relaxed', 'Hungry', 'Euphoric', 'Happy', 'Sl...</td>\n",
       "      <td>['Dry Mouth', 'Dry Eyes']</td>\n",
       "      <td>['Depression', 'Insomnia', 'Pain', 'Stress', '...</td>\n",
       "      <td>indica Cornbread by Rare Dankness is an 80 20 ...</td>\n",
       "    </tr>\n",
       "  </tbody>\n",
       "</table>\n",
       "</div>"
      ],
      "text/plain": [
       "                 name    race  \\\n",
       "id                              \n",
       "936   Green Door Kush  hybrid   \n",
       "2549            Khola  hybrid   \n",
       "1612     Purple Arrow  hybrid   \n",
       "2237        Avi Dekel  hybrid   \n",
       "602         Cornbread  indica   \n",
       "\n",
       "                                            Description  Rating  \\\n",
       "id                                                                \n",
       "936   Green Door Kush is a hybrid strain that is kno...     4.5   \n",
       "2549  Khola is a sociable cross between Brazilian, T...     4.2   \n",
       "1612  When it comes to knocking out pain, no medical...     4.2   \n",
       "2237  Avi-Dekel is a sativa-dominant strain develope...     4.5   \n",
       "602   Cornbread by Rare Dankness is an 80/20 indica-...     4.6   \n",
       "\n",
       "                                     flavors  \\\n",
       "id                                             \n",
       "936      ['Citrus', 'Spicy/Herbal', 'Woody']   \n",
       "2549                                      []   \n",
       "1612           ['Earthy', 'Sweet', 'Citrus']   \n",
       "2237                                      []   \n",
       "602   ['Lemon', 'Citrus', 'Earthy', 'Woody']   \n",
       "\n",
       "                                               positive  \\\n",
       "id                                                        \n",
       "936   ['Relaxed', 'Euphoric', 'Happy', 'Creative', '...   \n",
       "2549                                                 []   \n",
       "1612  ['Happy', 'Energetic', 'Uplifted', 'Sleepy', '...   \n",
       "2237                                                 []   \n",
       "602   ['Relaxed', 'Hungry', 'Euphoric', 'Happy', 'Sl...   \n",
       "\n",
       "                                            negative  \\\n",
       "id                                                     \n",
       "936             ['Dry Mouth', 'Dry Eyes', 'Anxious']   \n",
       "2549                                             NaN   \n",
       "1612  ['Dizzy', 'Dry Mouth', 'Paranoid', 'Dry Eyes']   \n",
       "2237                                             NaN   \n",
       "602                        ['Dry Mouth', 'Dry Eyes']   \n",
       "\n",
       "                                                medical  \\\n",
       "id                                                        \n",
       "936   ['Insomnia', 'Pain', 'Stress', 'Nausea', 'Musc...   \n",
       "2549                                                NaN   \n",
       "1612  ['Depression', 'Pain', 'Stress', 'Headache', '...   \n",
       "2237                                                NaN   \n",
       "602   ['Depression', 'Insomnia', 'Pain', 'Stress', '...   \n",
       "\n",
       "                                                   text  \n",
       "id                                                       \n",
       "936   hybrid Green Door Kush is a hybrid strain that...  \n",
       "2549  hybrid Khola is a sociable cross between Brazi...  \n",
       "1612  hybrid When it comes to knocking out pain, no ...  \n",
       "2237  hybrid Avi-Dekel is a sativa-dominant strain d...  \n",
       "602   indica Cornbread by Rare Dankness is an 80 20 ...  "
      ]
     },
     "execution_count": 19,
     "metadata": {},
     "output_type": "execute_result"
    }
   ],
   "source": [
    "strains"
   ]
  },
  {
   "cell_type": "code",
   "execution_count": 20,
   "metadata": {},
   "outputs": [],
   "source": [
    "import requests"
   ]
  },
  {
   "cell_type": "code",
   "execution_count": 31,
   "metadata": {},
   "outputs": [],
   "source": [
    "url = 'https://med-cabinet-4-api.herokuapp.com/predict'\n",
    "\n",
    "payload = {\n",
    "    \"positive_effect\" : [\"euphoria\"],\n",
    "    \"negative_effect\" : [\"sleeplessness, sickness\"],\n",
    "    \"medical_effect\" : [\"pain\"],\n",
    "    \"flavor\" : [\"earthy\"],\n",
    "    \"desc\" : [\"A very fancy strain\"],\n",
    "    \"min_rating\" : [1.79],\n",
    "    \"num_resp\" : 3\n",
    "}\n",
    "\n",
    "r = requests.request('POST', url, params=payload)"
   ]
  },
  {
   "cell_type": "code",
   "execution_count": 32,
   "metadata": {},
   "outputs": [
    {
     "data": {
      "text/plain": [
       "<Response [200]>"
      ]
     },
     "execution_count": 32,
     "metadata": {},
     "output_type": "execute_result"
    }
   ],
   "source": [
    "r"
   ]
  },
  {
   "cell_type": "code",
   "execution_count": 33,
   "metadata": {},
   "outputs": [
    {
     "data": {
      "text/plain": [
       "{'description': 'The colorful hues and sweet flavors of Blueberry blend together with the resin production and heartiness of California Hash Plant to create Blue Hash, or Blueberry Hash. The aroma is a mixture of fresh berries with a pungent, earthy finish. Blue Hash produces a powerfully relaxing effect that is a great way to unwind at the end of a long day or at night before bedtime. Medical patients will appreciate Blue Hash’s ability to combat insomnia and suppress stress.',\n",
       " 'flavor': \"['Blueberry', 'Sweet', 'Earthy']\",\n",
       " 'id': 264,\n",
       " 'medical': \"['Depression', 'Insomnia', 'Pain', 'Stress', 'Lack of Appetite', 'Headache']\",\n",
       " 'name': 'Blue Hash',\n",
       " 'negative': \"['Dizzy', 'Dry Mouth', 'Paranoid', 'Dry Eyes']\",\n",
       " 'positive': \"['Relaxed', 'Hungry', 'Happy', 'Tingly', 'Sleepy', 'Euphoric', 'Uplifted']\",\n",
       " 'race': 'hybrid',\n",
       " 'rating': '4.4'}"
      ]
     },
     "execution_count": 33,
     "metadata": {},
     "output_type": "execute_result"
    }
   ],
   "source": [
    "r.json()"
   ]
  },
  {
   "cell_type": "code",
   "execution_count": null,
   "metadata": {},
   "outputs": [],
   "source": []
  }
 ],
 "metadata": {
  "kernelspec": {
   "display_name": "Python 3",
   "language": "python",
   "name": "python3"
  },
  "language_info": {
   "codemirror_mode": {
    "name": "ipython",
    "version": 3
   },
   "file_extension": ".py",
   "mimetype": "text/x-python",
   "name": "python",
   "nbconvert_exporter": "python",
   "pygments_lexer": "ipython3",
   "version": "3.6.7"
  }
 },
 "nbformat": 4,
 "nbformat_minor": 4
}
